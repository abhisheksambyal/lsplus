{
 "cells": [
  {
   "cell_type": "code",
   "execution_count": 2,
   "id": "e7f65f66-8a47-4783-ab4f-836174f3c944",
   "metadata": {},
   "outputs": [
    {
     "name": "stderr",
     "output_type": "stream",
     "text": [
      "2024-02-15 08:20:33.537640: I tensorflow/stream_executor/platform/default/dso_loader.cc:49] Successfully opened dynamic library libcudart.so.10.1\n"
     ]
    }
   ],
   "source": [
    "import seaborn as sns\n",
    "import matplotlib.pyplot as plt\n",
    "from imblearn.over_sampling import RandomOverSampler \n",
    "import numpy as np\n",
    "from sklearn.model_selection import train_test_split\n",
    "import os, cv2\n",
    "import random\n",
    "import pandas as pd\n",
    "from pathlib import Path\n",
    "import tensorflow as tf\n",
    "from tensorflow.keras.models import Sequential\n",
    "from tensorflow.keras.layers import Conv2D, Flatten, Dense, MaxPool2D\n",
    "\n",
    "from sklearn.metrics import  precision_score, recall_score, accuracy_score,classification_report "
   ]
  },
  {
   "cell_type": "code",
   "execution_count": 5,
   "id": "57fdd1c4-370a-4e11-90fc-7b3914226097",
   "metadata": {},
   "outputs": [],
   "source": [
    "path_ground_truth_data = '../hyper_kvasir_dataset/labeled-images/image-labels.csv'"
   ]
  },
  {
   "cell_type": "code",
   "execution_count": 6,
   "id": "d5de5aa0-36b3-412b-af71-3560999978a9",
   "metadata": {},
   "outputs": [
    {
     "name": "stdout",
     "output_type": "stream",
     "text": [
      "                             Video file     Organ Finding  \\\n",
      "0  000e3fee-7f5c-4819-9f9c-4c983b68888a  Lower GI   cecum   \n",
      "1  001a41c2-2a5d-40b1-8fd5-b5f2f292277b  Lower GI   cecum   \n",
      "2  006af0aa-2044-4477-964d-10d9e043fb78  Lower GI   cecum   \n",
      "3  00832522-ab8e-4b98-bfce-93a777929571  Lower GI   cecum   \n",
      "4  012ab888-64e6-4361-9745-f52b4a03ba75  Lower GI   cecum   \n",
      "\n",
      "         Classification  \n",
      "0  anatomical-landmarks  \n",
      "1  anatomical-landmarks  \n",
      "2  anatomical-landmarks  \n",
      "3  anatomical-landmarks  \n",
      "4  anatomical-landmarks  \n"
     ]
    }
   ],
   "source": [
    "ground_truth_labels = pd.read_csv(path_ground_truth_data)\n",
    "print(ground_truth_labels.head())"
   ]
  },
  {
   "cell_type": "code",
   "execution_count": 9,
   "id": "ab655796-a058-49da-8878-bb8225c05015",
   "metadata": {},
   "outputs": [
    {
     "data": {
      "text/plain": [
       "bbps-2-3                        1148\n",
       "polyps                          1028\n",
       "cecum                           1009\n",
       "dyed-lifted-polyps              1002\n",
       "pylorus                          999\n",
       "dyed-resection-margins           989\n",
       "z-line                           932\n",
       "retroflex-stomach                764\n",
       "bbps-0-1                         646\n",
       "ulcerative-colitis-grade-2       443\n",
       "esophagitis-a                    403\n",
       "retroflex-rectum                 391\n",
       "esophagitis-b-d                  260\n",
       "ulcerative-colitis-grade-1       201\n",
       "ulcerative-colitis-grade-3       133\n",
       "impacted-stool                   131\n",
       "barretts-short-segment            53\n",
       "barretts                          41\n",
       "ulcerative-colitis-grade-0-1      35\n",
       "ulcerative-colitis-grade-2-3      28\n",
       "ulcerative-colitis-grade-1-2      11\n",
       "ileum                              9\n",
       "hemorrhoids                        6\n",
       "Name: Finding, dtype: int64"
      ]
     },
     "execution_count": 9,
     "metadata": {},
     "output_type": "execute_result"
    }
   ],
   "source": [
    "ground_truth_labels['Finding'].value_counts()"
   ]
  },
  {
   "cell_type": "code",
   "execution_count": 45,
   "id": "9de5aa82-50a8-4042-937f-2dc7c06dd85e",
   "metadata": {},
   "outputs": [],
   "source": [
    "lesion_type_dict = {\n",
    "    'NV': 'Melanocytic nevi',\n",
    "    'MEL': 'Melanoma',\n",
    "    'BKL': 'Benign keratosis ',\n",
    "    'BCC': 'Basal cell carcinoma',\n",
    "    'AKIEC': 'Actinic keratoses',\n",
    "    'VASC': 'Vascular lesions',\n",
    "    'DF': 'Dermatofibroma',\n",
    "  \n",
    "}\n",
    "\n"
   ]
  },
  {
   "cell_type": "code",
   "execution_count": 46,
   "id": "ac705084-b753-47db-bffd-4ccf5ea56b2f",
   "metadata": {},
   "outputs": [],
   "source": [
    "seed = 1\n",
    "random.seed(seed)\n",
    "\n",
    "path_ground_truth_data = 'ISIC2018_Task3_Test_GroundTruth/ISIC2018_Task3_Test_GroundTruth.csv'\n",
    "\n",
    "# tabular_data = pd.read_csv('/kaggle/input/isic-2019/ISIC_2019_Training_Metadata.csv')"
   ]
  },
  {
   "cell_type": "code",
   "execution_count": 47,
   "id": "a115b3ff-14c7-4124-99ba-b24fcd0d4cb1",
   "metadata": {},
   "outputs": [
    {
     "name": "stdout",
     "output_type": "stream",
     "text": [
      "          image  MEL   NV  BCC  AKIEC  BKL   DF  VASC\n",
      "0  ISIC_0034524  0.0  1.0  0.0    0.0  0.0  0.0   0.0\n",
      "1  ISIC_0034525  0.0  1.0  0.0    0.0  0.0  0.0   0.0\n",
      "2  ISIC_0034526  0.0  0.0  0.0    0.0  1.0  0.0   0.0\n",
      "3  ISIC_0034527  0.0  1.0  0.0    0.0  0.0  0.0   0.0\n",
      "4  ISIC_0034528  0.0  1.0  0.0    0.0  0.0  0.0   0.0\n"
     ]
    }
   ],
   "source": [
    "ground_truth_labels = pd.read_csv(path_ground_truth_data)\n",
    "print(ground_truth_labels.head())"
   ]
  },
  {
   "cell_type": "code",
   "execution_count": 48,
   "id": "bbb4d2e2-6f6a-4a42-91ee-e7f6533bbd8f",
   "metadata": {},
   "outputs": [
    {
     "data": {
      "text/html": [
       "<div>\n",
       "<style scoped>\n",
       "    .dataframe tbody tr th:only-of-type {\n",
       "        vertical-align: middle;\n",
       "    }\n",
       "\n",
       "    .dataframe tbody tr th {\n",
       "        vertical-align: top;\n",
       "    }\n",
       "\n",
       "    .dataframe thead th {\n",
       "        text-align: right;\n",
       "    }\n",
       "</style>\n",
       "<table border=\"1\" class=\"dataframe\">\n",
       "  <thead>\n",
       "    <tr style=\"text-align: right;\">\n",
       "      <th></th>\n",
       "      <th>image</th>\n",
       "      <th>MEL</th>\n",
       "      <th>NV</th>\n",
       "      <th>BCC</th>\n",
       "      <th>AKIEC</th>\n",
       "      <th>BKL</th>\n",
       "      <th>DF</th>\n",
       "      <th>VASC</th>\n",
       "    </tr>\n",
       "  </thead>\n",
       "  <tbody>\n",
       "  </tbody>\n",
       "</table>\n",
       "</div>"
      ],
      "text/plain": [
       "Empty DataFrame\n",
       "Columns: [image, MEL, NV, BCC, AKIEC, BKL, DF, VASC]\n",
       "Index: []"
      ]
     },
     "execution_count": 48,
     "metadata": {},
     "output_type": "execute_result"
    }
   ],
   "source": [
    "ground_truth_labels[ground_truth_labels['image'] == 'ISIC_0034321']\n",
    "\n"
   ]
  },
  {
   "cell_type": "code",
   "execution_count": 10,
   "id": "c19c5ca1-fc42-40a9-99ad-50ab44d94bec",
   "metadata": {},
   "outputs": [],
   "source": [
    "isic_path='../ISIC_2018/ISIC2018_Task3_Validation_Input'\n",
    "def get_isic_df():\n",
    "    df = pd.read_csv('ISIC2018_Task3_Validation_GroundTruth/ISIC2018_Task3_Validation_GroundTruth.csv')\n",
    "\n",
    "    \n",
    "    for label in df.columns[1:]:\n",
    "        df.loc[df[label] == 1.0, 'label'] = label\n",
    "        \n",
    "    df.rename(columns={'image': 'path'}, inplace=True)\n",
    "    df['path'] = df['path'].apply(lambda x: \"{}/{}.jpg\".format(isic_path,x))\n",
    "    df = df[['path', 'label']]\n",
    "    return df"
   ]
  },
  {
   "cell_type": "code",
   "execution_count": 11,
   "id": "b614c584-34d6-4c33-b9e9-5cb9915144af",
   "metadata": {},
   "outputs": [],
   "source": [
    "df=get_isic_df()"
   ]
  },
  {
   "cell_type": "code",
   "execution_count": 12,
   "id": "f0b6b1b5-7cdd-4674-9e9a-ea6b380f4ef8",
   "metadata": {},
   "outputs": [
    {
     "data": {
      "text/html": [
       "<div>\n",
       "<style scoped>\n",
       "    .dataframe tbody tr th:only-of-type {\n",
       "        vertical-align: middle;\n",
       "    }\n",
       "\n",
       "    .dataframe tbody tr th {\n",
       "        vertical-align: top;\n",
       "    }\n",
       "\n",
       "    .dataframe thead th {\n",
       "        text-align: right;\n",
       "    }\n",
       "</style>\n",
       "<table border=\"1\" class=\"dataframe\">\n",
       "  <thead>\n",
       "    <tr style=\"text-align: right;\">\n",
       "      <th></th>\n",
       "      <th>path</th>\n",
       "      <th>label</th>\n",
       "    </tr>\n",
       "  </thead>\n",
       "  <tbody>\n",
       "    <tr>\n",
       "      <th>0</th>\n",
       "      <td>../ISIC_2018/ISIC2018_Task3_Validation_Input/I...</td>\n",
       "      <td>NV</td>\n",
       "    </tr>\n",
       "    <tr>\n",
       "      <th>1</th>\n",
       "      <td>../ISIC_2018/ISIC2018_Task3_Validation_Input/I...</td>\n",
       "      <td>NV</td>\n",
       "    </tr>\n",
       "    <tr>\n",
       "      <th>2</th>\n",
       "      <td>../ISIC_2018/ISIC2018_Task3_Validation_Input/I...</td>\n",
       "      <td>BCC</td>\n",
       "    </tr>\n",
       "    <tr>\n",
       "      <th>3</th>\n",
       "      <td>../ISIC_2018/ISIC2018_Task3_Validation_Input/I...</td>\n",
       "      <td>NV</td>\n",
       "    </tr>\n",
       "    <tr>\n",
       "      <th>4</th>\n",
       "      <td>../ISIC_2018/ISIC2018_Task3_Validation_Input/I...</td>\n",
       "      <td>NV</td>\n",
       "    </tr>\n",
       "  </tbody>\n",
       "</table>\n",
       "</div>"
      ],
      "text/plain": [
       "                                                path label\n",
       "0  ../ISIC_2018/ISIC2018_Task3_Validation_Input/I...    NV\n",
       "1  ../ISIC_2018/ISIC2018_Task3_Validation_Input/I...    NV\n",
       "2  ../ISIC_2018/ISIC2018_Task3_Validation_Input/I...   BCC\n",
       "3  ../ISIC_2018/ISIC2018_Task3_Validation_Input/I...    NV\n",
       "4  ../ISIC_2018/ISIC2018_Task3_Validation_Input/I...    NV"
      ]
     },
     "execution_count": 12,
     "metadata": {},
     "output_type": "execute_result"
    }
   ],
   "source": [
    "df.head()"
   ]
  },
  {
   "cell_type": "code",
   "execution_count": 13,
   "id": "32a357bb-37a1-400d-ac59-a4adc981f464",
   "metadata": {},
   "outputs": [
    {
     "data": {
      "image/png": "[encoded data removed]",
      "text/plain": [
       "<Figure size 432x288 with 1 Axes>"
      ]
     },
     "metadata": {
      "needs_background": "light"
     },
     "output_type": "display_data"
    }
   ],
   "source": [
    "ax = sns.countplot(x=\"label\", data=get_isic_df(), order=['NV', 'MEL', 'BCC', 'BKL', 'AKIEC', 'VASC', 'DF'])"
   ]
  },
  {
   "cell_type": "code",
   "execution_count": 14,
   "id": "e4478351-40c9-478c-8e64-240a26bc8768",
   "metadata": {},
   "outputs": [
    {
     "name": "stdout",
     "output_type": "stream",
     "text": [
      "NV       123\n",
      "BKL       22\n",
      "MEL       21\n",
      "BCC       15\n",
      "AKIEC      8\n",
      "VASC       3\n",
      "DF         1\n",
      "Name: label, dtype: int64\n"
     ]
    }
   ],
   "source": [
    "label_counts = df['label'].value_counts()\n",
    "\n",
    "# Display the counts\n",
    "print(label_counts)"
   ]
  },
  {
   "cell_type": "code",
   "execution_count": 54,
   "id": "326cb8f5-9bde-4e9e-9eda-70571f83bd6a",
   "metadata": {},
   "outputs": [],
   "source": [
    "df.to_csv('test_labels.csv', index=False)"
   ]
  },
  {
   "cell_type": "code",
   "execution_count": null,
   "id": "6d993c2c-3a85-4ac2-812d-78ff95d24a66",
   "metadata": {},
   "outputs": [],
   "source": []
  }
 ],
 "metadata": {
  "kernelspec": {
   "display_name": "Python 3 (ipykernel)",
   "language": "python",
   "name": "python3"
  },
  "language_info": {
   "codemirror_mode": {
    "name": "ipython",
    "version": 3
   },
   "file_extension": ".py",
   "mimetype": "text/x-python",
   "name": "python",
   "nbconvert_exporter": "python",
   "pygments_lexer": "ipython3",
   "version": "3.9.12"
  }
 },
 "nbformat": 4,
 "nbformat_minor": 5
}
